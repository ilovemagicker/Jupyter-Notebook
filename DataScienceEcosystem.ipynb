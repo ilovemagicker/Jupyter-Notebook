{
 "cells": [
  {
   "cell_type": "code",
   "execution_count": null,
   "id": "f9c0df0e",
   "metadata": {},
   "outputs": [],
   "source": []
  },
  {
   "cell_type": "code",
   "execution_count": null,
   "id": "80cec7a1",
   "metadata": {},
   "outputs": [],
   "source": []
  },
  {
   "cell_type": "markdown",
   "id": "09cb7910",
   "metadata": {},
   "source": [
    "# Data Science Tools and Examples\n",
    "\n",
    "## Introduction\n",
    "In this notebook, we will explore various data science tools and demonstrate some basic arithmetic operations using Python.\n",
    "##data science languages\n",
    "Some of the commonly used libraries used by Data Scientists include:\n",
    "    ordered list:\n",
    "    -python\n",
    "    -R\n",
    "    -SQL\n",
    "    -Java\n",
    "    -C++\n",
    "## Data Science Libraries\n",
    "Some of the commonly used libraries used by Data Scientists include:\n",
    "    ordered list:\n",
    "    - NumPy\n",
    "    - Pandas\n",
    "    - Scikit-learn\n",
    "    - TensorFlow\n",
    "    - pyTorch\n",
    "## Data Science Tools\n",
    "table:\n",
    "|Tool|Description|\n",
    "|----------------|----------------|\n",
    "|Jupyter Notebook|Interactive computing environment|\n",
    "|RStudio|IDE for R programming|\n",
    "|GitHub|Platform for version control|\n",
    "|Tableau|Data visualization tool|\n",
    "\n",
    "### Below are a few examples of evaluating arithmetic expressions in Python.\n",
    "\n"
   ]
  },
  {
   "cell_type": "markdown",
   "id": "1fe9d92e",
   "metadata": {},
   "source": [
    "### Below are a few examples of evaluating arithmetic expressions in Python."
   ]
  },
  {
   "cell_type": "markdown",
   "id": "0d349415",
   "metadata": {},
   "source": [
    "# code cell to multiply and add numbers"
   ]
  },
  {
   "cell_type": "code",
   "execution_count": 3,
   "id": "245cd2e8",
   "metadata": {},
   "outputs": [
    {
     "data": {
      "text/plain": [
       "17"
      ]
     },
     "execution_count": 3,
     "metadata": {},
     "output_type": "execute_result"
    }
   ],
   "source": [
    "(3*4)+5"
   ]
  },
  {
   "cell_type": "markdown",
   "id": "83fb00c5",
   "metadata": {},
   "source": [
    "# This will convert 200 minutes to hours by diving by 60"
   ]
  },
  {
   "cell_type": "code",
   "execution_count": 5,
   "id": "16fa981d",
   "metadata": {},
   "outputs": [
    {
     "data": {
      "text/plain": [
       "3.3333333333333335"
      ]
     },
     "execution_count": 5,
     "metadata": {},
     "output_type": "execute_result"
    }
   ],
   "source": [
    "200/60"
   ]
  },
  {
   "cell_type": "markdown",
   "id": "e0198c73",
   "metadata": {},
   "source": [
    "**Objectives**\n",
    "- List popular languages for Data Science\n",
    "- List popular languages for Data Tool\n",
    "- List popular languages for Data Source\n",
    "- List popular languages for Data library\n",
    "- List popular languages for Data type\n"
   ]
  },
  {
   "cell_type": "markdown",
   "id": "d257b0a4",
   "metadata": {},
   "source": [
    "## Author\n",
    "Chang Chung Yin"
   ]
  },
  {
   "cell_type": "markdown",
   "id": "4327b5be",
   "metadata": {},
   "source": []
  },
  {
   "cell_type": "code",
   "execution_count": null,
   "id": "fca8ebf7",
   "metadata": {},
   "outputs": [],
   "source": []
  }
 ],
 "metadata": {
  "kernelspec": {
   "display_name": "Python 3 (ipykernel)",
   "language": "python",
   "name": "python3"
  },
  "language_info": {
   "codemirror_mode": {
    "name": "ipython",
    "version": 3
   },
   "file_extension": ".py",
   "mimetype": "text/x-python",
   "name": "python",
   "nbconvert_exporter": "python",
   "pygments_lexer": "ipython3",
   "version": "3.11.5"
  }
 },
 "nbformat": 4,
 "nbformat_minor": 5
}
